{
 "cells": [
  {
   "cell_type": "code",
   "execution_count": 1,
   "id": "db7b46b0",
   "metadata": {},
   "outputs": [],
   "source": [
    "import pandas as pd"
   ]
  },
  {
   "cell_type": "code",
   "execution_count": 2,
   "id": "07d44b9a",
   "metadata": {},
   "outputs": [],
   "source": [
    "data = pd.DataFrame({\"text\": [\"people watch ineuron\", \"ineuron watch ineuron\",\"people write comment\",\"ineuron write comment\"], \"output\":[1,1,0,0]})"
   ]
  },
  {
   "cell_type": "code",
   "execution_count": 3,
   "id": "9d9865ca",
   "metadata": {},
   "outputs": [
    {
     "data": {
      "text/html": [
       "<div>\n",
       "<style scoped>\n",
       "    .dataframe tbody tr th:only-of-type {\n",
       "        vertical-align: middle;\n",
       "    }\n",
       "\n",
       "    .dataframe tbody tr th {\n",
       "        vertical-align: top;\n",
       "    }\n",
       "\n",
       "    .dataframe thead th {\n",
       "        text-align: right;\n",
       "    }\n",
       "</style>\n",
       "<table border=\"1\" class=\"dataframe\">\n",
       "  <thead>\n",
       "    <tr style=\"text-align: right;\">\n",
       "      <th></th>\n",
       "      <th>text</th>\n",
       "      <th>output</th>\n",
       "    </tr>\n",
       "  </thead>\n",
       "  <tbody>\n",
       "    <tr>\n",
       "      <th>0</th>\n",
       "      <td>people watch ineuron</td>\n",
       "      <td>1</td>\n",
       "    </tr>\n",
       "    <tr>\n",
       "      <th>1</th>\n",
       "      <td>ineuron watch ineuron</td>\n",
       "      <td>1</td>\n",
       "    </tr>\n",
       "    <tr>\n",
       "      <th>2</th>\n",
       "      <td>people write comment</td>\n",
       "      <td>0</td>\n",
       "    </tr>\n",
       "    <tr>\n",
       "      <th>3</th>\n",
       "      <td>ineuron write comment</td>\n",
       "      <td>0</td>\n",
       "    </tr>\n",
       "  </tbody>\n",
       "</table>\n",
       "</div>"
      ],
      "text/plain": [
       "                    text  output\n",
       "0   people watch ineuron       1\n",
       "1  ineuron watch ineuron       1\n",
       "2   people write comment       0\n",
       "3  ineuron write comment       0"
      ]
     },
     "execution_count": 3,
     "metadata": {},
     "output_type": "execute_result"
    }
   ],
   "source": [
    "data.head()"
   ]
  },
  {
   "cell_type": "markdown",
   "id": "cbdd5b40",
   "metadata": {},
   "source": [
    "# Document Matrix(BOW)"
   ]
  },
  {
   "cell_type": "code",
   "execution_count": 4,
   "id": "8c8a862c",
   "metadata": {},
   "outputs": [],
   "source": [
    "from sklearn.feature_extraction.text import CountVectorizer"
   ]
  },
  {
   "cell_type": "code",
   "execution_count": 5,
   "id": "fac9ad3b",
   "metadata": {},
   "outputs": [],
   "source": [
    "Bow = CountVectorizer()"
   ]
  },
  {
   "cell_type": "code",
   "execution_count": 8,
   "id": "fe7314c9",
   "metadata": {},
   "outputs": [],
   "source": [
    "document_matrix = Bow.fit_transform(data['text'])"
   ]
  },
  {
   "cell_type": "code",
   "execution_count": 9,
   "id": "dee12121",
   "metadata": {},
   "outputs": [
    {
     "data": {
      "text/plain": [
       "<4x5 sparse matrix of type '<class 'numpy.int64'>'\n",
       "\twith 11 stored elements in Compressed Sparse Row format>"
      ]
     },
     "execution_count": 9,
     "metadata": {},
     "output_type": "execute_result"
    }
   ],
   "source": [
    "document_matrix"
   ]
  },
  {
   "cell_type": "code",
   "execution_count": 10,
   "id": "eb9b07e8",
   "metadata": {},
   "outputs": [
    {
     "data": {
      "text/plain": [
       "{'people': 2, 'watch': 3, 'ineuron': 1, 'write': 4, 'comment': 0}"
      ]
     },
     "execution_count": 10,
     "metadata": {},
     "output_type": "execute_result"
    }
   ],
   "source": [
    "Bow.vocabulary_"
   ]
  },
  {
   "cell_type": "code",
   "execution_count": 12,
   "id": "cf495af2",
   "metadata": {},
   "outputs": [
    {
     "data": {
      "text/plain": [
       "array([[0, 1, 1, 1, 0]], dtype=int64)"
      ]
     },
     "execution_count": 12,
     "metadata": {},
     "output_type": "execute_result"
    }
   ],
   "source": [
    "document_matrix[0].toarray()"
   ]
  },
  {
   "cell_type": "code",
   "execution_count": 13,
   "id": "ae896001",
   "metadata": {},
   "outputs": [
    {
     "data": {
      "text/plain": [
       "array([[0, 2, 0, 1, 0]], dtype=int64)"
      ]
     },
     "execution_count": 13,
     "metadata": {},
     "output_type": "execute_result"
    }
   ],
   "source": [
    "document_matrix[1].toarray()"
   ]
  },
  {
   "cell_type": "code",
   "execution_count": 14,
   "id": "838ca738",
   "metadata": {},
   "outputs": [
    {
     "data": {
      "text/plain": [
       "array([[1, 0, 1, 0, 1]], dtype=int64)"
      ]
     },
     "execution_count": 14,
     "metadata": {},
     "output_type": "execute_result"
    }
   ],
   "source": [
    "document_matrix[2].toarray()"
   ]
  },
  {
   "cell_type": "code",
   "execution_count": 15,
   "id": "52e949f5",
   "metadata": {},
   "outputs": [
    {
     "data": {
      "text/plain": [
       "array([[1, 1, 0, 0, 1]], dtype=int64)"
      ]
     },
     "execution_count": 15,
     "metadata": {},
     "output_type": "execute_result"
    }
   ],
   "source": [
    "document_matrix[3].toarray()"
   ]
  },
  {
   "cell_type": "markdown",
   "id": "52f88f74",
   "metadata": {},
   "source": [
    "# Bigrams"
   ]
  },
  {
   "cell_type": "code",
   "execution_count": 17,
   "id": "5efcb77a",
   "metadata": {},
   "outputs": [],
   "source": [
    "bigram = CountVectorizer(ngram_range=(2,2))"
   ]
  },
  {
   "cell_type": "code",
   "execution_count": 18,
   "id": "103d3169",
   "metadata": {},
   "outputs": [],
   "source": [
    "bigramvocab = bigram.fit_transform(data['text'])"
   ]
  },
  {
   "cell_type": "code",
   "execution_count": 19,
   "id": "617ab521",
   "metadata": {},
   "outputs": [
    {
     "data": {
      "text/plain": [
       "{'people watch': 2,\n",
       " 'watch ineuron': 4,\n",
       " 'ineuron watch': 0,\n",
       " 'people write': 3,\n",
       " 'write comment': 5,\n",
       " 'ineuron write': 1}"
      ]
     },
     "execution_count": 19,
     "metadata": {},
     "output_type": "execute_result"
    }
   ],
   "source": [
    "bigram.vocabulary_"
   ]
  },
  {
   "cell_type": "code",
   "execution_count": 22,
   "id": "fcd1a80e",
   "metadata": {},
   "outputs": [
    {
     "data": {
      "text/plain": [
       "array([[0, 0, 1, 0, 1, 0]], dtype=int64)"
      ]
     },
     "execution_count": 22,
     "metadata": {},
     "output_type": "execute_result"
    }
   ],
   "source": [
    "bigramvocab[0].toarray()"
   ]
  },
  {
   "cell_type": "markdown",
   "id": "892b1f66",
   "metadata": {},
   "source": [
    "# Trigrams"
   ]
  },
  {
   "cell_type": "code",
   "execution_count": 20,
   "id": "6f61b3bf",
   "metadata": {},
   "outputs": [],
   "source": [
    "trigram = CountVectorizer(ngram_range=(3,3))"
   ]
  },
  {
   "cell_type": "code",
   "execution_count": 21,
   "id": "8bd6a758",
   "metadata": {},
   "outputs": [],
   "source": [
    "trigramvocab = trigram.fit_transform(data['text'])"
   ]
  },
  {
   "cell_type": "code",
   "execution_count": 23,
   "id": "40eabe65",
   "metadata": {},
   "outputs": [
    {
     "data": {
      "text/plain": [
       "{'people watch ineuron': 2,\n",
       " 'ineuron watch ineuron': 0,\n",
       " 'people write comment': 3,\n",
       " 'ineuron write comment': 1}"
      ]
     },
     "execution_count": 23,
     "metadata": {},
     "output_type": "execute_result"
    }
   ],
   "source": [
    "trigram.vocabulary_"
   ]
  },
  {
   "cell_type": "code",
   "execution_count": 24,
   "id": "4e820482",
   "metadata": {},
   "outputs": [
    {
     "data": {
      "text/plain": [
       "array([[0, 0, 1, 0]], dtype=int64)"
      ]
     },
     "execution_count": 24,
     "metadata": {},
     "output_type": "execute_result"
    }
   ],
   "source": [
    "trigramvocab[0].toarray()"
   ]
  },
  {
   "cell_type": "code",
   "execution_count": 25,
   "id": "a65eb9e2",
   "metadata": {},
   "outputs": [
    {
     "data": {
      "text/plain": [
       "array([[1, 0, 0, 0]], dtype=int64)"
      ]
     },
     "execution_count": 25,
     "metadata": {},
     "output_type": "execute_result"
    }
   ],
   "source": [
    "trigramvocab[1].toarray()"
   ]
  },
  {
   "cell_type": "code",
   "execution_count": 26,
   "id": "14edf4be",
   "metadata": {},
   "outputs": [
    {
     "data": {
      "text/plain": [
       "array([[0, 0, 0, 1]], dtype=int64)"
      ]
     },
     "execution_count": 26,
     "metadata": {},
     "output_type": "execute_result"
    }
   ],
   "source": [
    "trigramvocab[2].toarray()"
   ]
  },
  {
   "cell_type": "markdown",
   "id": "5df8ad7d",
   "metadata": {},
   "source": [
    "# Mix"
   ]
  },
  {
   "cell_type": "code",
   "execution_count": 27,
   "id": "ec75736c",
   "metadata": {},
   "outputs": [],
   "source": [
    "mix = CountVectorizer(ngram_range=(1,2))"
   ]
  },
  {
   "cell_type": "code",
   "execution_count": 28,
   "id": "3b9324ea",
   "metadata": {},
   "outputs": [],
   "source": [
    "mix_vocab = mix.fit_transform(data['text'])"
   ]
  },
  {
   "cell_type": "code",
   "execution_count": 29,
   "id": "cc33cf9b",
   "metadata": {},
   "outputs": [
    {
     "data": {
      "text/plain": [
       "{'people': 4,\n",
       " 'watch': 7,\n",
       " 'ineuron': 1,\n",
       " 'people watch': 5,\n",
       " 'watch ineuron': 8,\n",
       " 'ineuron watch': 2,\n",
       " 'write': 9,\n",
       " 'comment': 0,\n",
       " 'people write': 6,\n",
       " 'write comment': 10,\n",
       " 'ineuron write': 3}"
      ]
     },
     "execution_count": 29,
     "metadata": {},
     "output_type": "execute_result"
    }
   ],
   "source": [
    "mix.vocabulary_"
   ]
  },
  {
   "cell_type": "code",
   "execution_count": 30,
   "id": "9442febb",
   "metadata": {},
   "outputs": [
    {
     "data": {
      "text/plain": [
       "array([[0, 1, 0, 0, 1, 1, 0, 1, 1, 0, 0]], dtype=int64)"
      ]
     },
     "execution_count": 30,
     "metadata": {},
     "output_type": "execute_result"
    }
   ],
   "source": [
    "mix_vocab[0].toarray()"
   ]
  },
  {
   "cell_type": "markdown",
   "id": "997b2987",
   "metadata": {},
   "source": [
    "## TF-IDF"
   ]
  },
  {
   "cell_type": "code",
   "execution_count": 31,
   "id": "b37d1e21",
   "metadata": {},
   "outputs": [],
   "source": [
    "from sklearn.feature_extraction.text import TfidfVectorizer"
   ]
  },
  {
   "cell_type": "code",
   "execution_count": 32,
   "id": "18e13a6a",
   "metadata": {},
   "outputs": [],
   "source": [
    "tfidf = TfidfVectorizer()"
   ]
  },
  {
   "cell_type": "code",
   "execution_count": 34,
   "id": "21701d2a",
   "metadata": {},
   "outputs": [
    {
     "data": {
      "text/plain": [
       "array([[0.        , 0.49681612, 0.61366674, 0.61366674, 0.        ],\n",
       "       [0.        , 0.8508161 , 0.        , 0.52546357, 0.        ],\n",
       "       [0.57735027, 0.        , 0.57735027, 0.        , 0.57735027],\n",
       "       [0.61366674, 0.49681612, 0.        , 0.        , 0.61366674]])"
      ]
     },
     "execution_count": 34,
     "metadata": {},
     "output_type": "execute_result"
    }
   ],
   "source": [
    "tfidf.fit_transform(data['text']).toarray()"
   ]
  },
  {
   "cell_type": "code",
   "execution_count": 36,
   "id": "ae60ba4d",
   "metadata": {},
   "outputs": [
    {
     "data": {
      "text/plain": [
       "array([1.51082562, 1.22314355, 1.51082562, 1.51082562, 1.51082562])"
      ]
     },
     "execution_count": 36,
     "metadata": {},
     "output_type": "execute_result"
    }
   ],
   "source": [
    "tfidf.idf_"
   ]
  },
  {
   "cell_type": "code",
   "execution_count": 38,
   "id": "623c9d7d",
   "metadata": {},
   "outputs": [
    {
     "data": {
      "text/plain": [
       "['comment', 'ineuron', 'people', 'watch', 'write']"
      ]
     },
     "execution_count": 38,
     "metadata": {},
     "output_type": "execute_result"
    }
   ],
   "source": [
    "tfidf.get_feature_names()"
   ]
  },
  {
   "cell_type": "code",
   "execution_count": null,
   "id": "e73033f7",
   "metadata": {},
   "outputs": [],
   "source": []
  }
 ],
 "metadata": {
  "kernelspec": {
   "display_name": "Python 3",
   "language": "python",
   "name": "python3"
  },
  "language_info": {
   "codemirror_mode": {
    "name": "ipython",
    "version": 3
   },
   "file_extension": ".py",
   "mimetype": "text/x-python",
   "name": "python",
   "nbconvert_exporter": "python",
   "pygments_lexer": "ipython3",
   "version": "3.8.8"
  }
 },
 "nbformat": 4,
 "nbformat_minor": 5
}
