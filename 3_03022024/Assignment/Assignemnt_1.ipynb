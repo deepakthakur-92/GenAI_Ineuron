{
 "cells": [
  {
   "cell_type": "code",
   "execution_count": null,
   "id": "64dc68e0",
   "metadata": {},
   "outputs": [],
   "source": [
    "'''\n",
    "Lower casing\n",
    "Word Tokenization\n",
    "sentence tokenization\n",
    "stopwords\n",
    "stemming\n",
    "lemmetization'''"
   ]
  },
  {
   "cell_type": "code",
   "execution_count": 3,
   "id": "f24f2533",
   "metadata": {},
   "outputs": [
    {
     "name": "stderr",
     "output_type": "stream",
     "text": [
      "C:\\Users\\hcl\\anaconda3\\lib\\site-packages\\scipy\\__init__.py:138: UserWarning: A NumPy version >=1.16.5 and <1.23.0 is required for this version of SciPy (detected version 1.24.4)\n",
      "  warnings.warn(f\"A NumPy version >={np_minversion} and <{np_maxversion} is required for this version of \"\n",
      "[nltk_data] Downloading package stopwords to\n",
      "[nltk_data]     C:\\Users\\hcl\\AppData\\Roaming\\nltk_data...\n",
      "[nltk_data]   Package stopwords is already up-to-date!\n",
      "[nltk_data] Downloading package punkt to\n",
      "[nltk_data]     C:\\Users\\hcl\\AppData\\Roaming\\nltk_data...\n",
      "[nltk_data]   Package punkt is already up-to-date!\n",
      "[nltk_data] Downloading package wordnet to\n",
      "[nltk_data]     C:\\Users\\hcl\\AppData\\Roaming\\nltk_data...\n",
      "[nltk_data]   Package wordnet is already up-to-date!\n"
     ]
    },
    {
     "data": {
      "text/plain": [
       "True"
      ]
     },
     "execution_count": 3,
     "metadata": {},
     "output_type": "execute_result"
    }
   ],
   "source": [
    "import pandas as pd\n",
    "import numpy as np\n",
    "import re\n",
    "import nltk\n",
    "from nltk.corpus import stopwords\n",
    "from nltk.stem import PorterStemmer\n",
    "from nltk.tokenize import word_tokenize\n",
    "from nltk.stem import WordNetLemmatizer\n",
    "\n",
    "nltk.download('stopwords')\n",
    "nltk.download('punkt')\n",
    "nltk.download('wordnet')"
   ]
  },
  {
   "cell_type": "code",
   "execution_count": 4,
   "id": "131919ee",
   "metadata": {},
   "outputs": [],
   "source": [
    "df = pd.read_csv(\"sample.csv\")"
   ]
  },
  {
   "cell_type": "code",
   "execution_count": 5,
   "id": "78a1add9",
   "metadata": {},
   "outputs": [
    {
     "data": {
      "text/html": [
       "<div>\n",
       "<style scoped>\n",
       "    .dataframe tbody tr th:only-of-type {\n",
       "        vertical-align: middle;\n",
       "    }\n",
       "\n",
       "    .dataframe tbody tr th {\n",
       "        vertical-align: top;\n",
       "    }\n",
       "\n",
       "    .dataframe thead th {\n",
       "        text-align: right;\n",
       "    }\n",
       "</style>\n",
       "<table border=\"1\" class=\"dataframe\">\n",
       "  <thead>\n",
       "    <tr style=\"text-align: right;\">\n",
       "      <th></th>\n",
       "      <th>tweet_id</th>\n",
       "      <th>author_id</th>\n",
       "      <th>inbound</th>\n",
       "      <th>created_at</th>\n",
       "      <th>text</th>\n",
       "      <th>response_tweet_id</th>\n",
       "      <th>in_response_to_tweet_id</th>\n",
       "    </tr>\n",
       "  </thead>\n",
       "  <tbody>\n",
       "    <tr>\n",
       "      <th>0</th>\n",
       "      <td>119237</td>\n",
       "      <td>105834</td>\n",
       "      <td>True</td>\n",
       "      <td>Wed Oct 11 06:55:44 +0000 2017</td>\n",
       "      <td>@AppleSupport causing the reply to be disregar...</td>\n",
       "      <td>119236</td>\n",
       "      <td>NaN</td>\n",
       "    </tr>\n",
       "    <tr>\n",
       "      <th>1</th>\n",
       "      <td>119238</td>\n",
       "      <td>ChaseSupport</td>\n",
       "      <td>False</td>\n",
       "      <td>Wed Oct 11 13:25:49 +0000 2017</td>\n",
       "      <td>@105835 Your business means a lot to us. Pleas...</td>\n",
       "      <td>NaN</td>\n",
       "      <td>119239.0</td>\n",
       "    </tr>\n",
       "    <tr>\n",
       "      <th>2</th>\n",
       "      <td>119239</td>\n",
       "      <td>105835</td>\n",
       "      <td>True</td>\n",
       "      <td>Wed Oct 11 13:00:09 +0000 2017</td>\n",
       "      <td>@76328 I really hope you all change but I'm su...</td>\n",
       "      <td>119238</td>\n",
       "      <td>NaN</td>\n",
       "    </tr>\n",
       "    <tr>\n",
       "      <th>3</th>\n",
       "      <td>119240</td>\n",
       "      <td>VirginTrains</td>\n",
       "      <td>False</td>\n",
       "      <td>Tue Oct 10 15:16:08 +0000 2017</td>\n",
       "      <td>@105836 LiveChat is online at the moment - htt...</td>\n",
       "      <td>119241</td>\n",
       "      <td>119242.0</td>\n",
       "    </tr>\n",
       "    <tr>\n",
       "      <th>4</th>\n",
       "      <td>119241</td>\n",
       "      <td>105836</td>\n",
       "      <td>True</td>\n",
       "      <td>Tue Oct 10 15:17:21 +0000 2017</td>\n",
       "      <td>@VirginTrains see attached error message. I've...</td>\n",
       "      <td>119243</td>\n",
       "      <td>119240.0</td>\n",
       "    </tr>\n",
       "  </tbody>\n",
       "</table>\n",
       "</div>"
      ],
      "text/plain": [
       "   tweet_id     author_id  inbound                      created_at  \\\n",
       "0    119237        105834     True  Wed Oct 11 06:55:44 +0000 2017   \n",
       "1    119238  ChaseSupport    False  Wed Oct 11 13:25:49 +0000 2017   \n",
       "2    119239        105835     True  Wed Oct 11 13:00:09 +0000 2017   \n",
       "3    119240  VirginTrains    False  Tue Oct 10 15:16:08 +0000 2017   \n",
       "4    119241        105836     True  Tue Oct 10 15:17:21 +0000 2017   \n",
       "\n",
       "                                                text response_tweet_id  \\\n",
       "0  @AppleSupport causing the reply to be disregar...            119236   \n",
       "1  @105835 Your business means a lot to us. Pleas...               NaN   \n",
       "2  @76328 I really hope you all change but I'm su...            119238   \n",
       "3  @105836 LiveChat is online at the moment - htt...            119241   \n",
       "4  @VirginTrains see attached error message. I've...            119243   \n",
       "\n",
       "   in_response_to_tweet_id  \n",
       "0                      NaN  \n",
       "1                 119239.0  \n",
       "2                      NaN  \n",
       "3                 119242.0  \n",
       "4                 119240.0  "
      ]
     },
     "execution_count": 5,
     "metadata": {},
     "output_type": "execute_result"
    }
   ],
   "source": [
    "df.head()"
   ]
  },
  {
   "cell_type": "code",
   "execution_count": 6,
   "id": "689dfa43",
   "metadata": {},
   "outputs": [
    {
     "data": {
      "text/plain": [
       "'@AppleSupport causing the reply to be disregarded and the tapped notification under the keyboard is opened😡😡😡'"
      ]
     },
     "execution_count": 6,
     "metadata": {},
     "output_type": "execute_result"
    }
   ],
   "source": [
    "df['text'][0]"
   ]
  },
  {
   "cell_type": "code",
   "execution_count": 7,
   "id": "fccb66bb",
   "metadata": {},
   "outputs": [
    {
     "data": {
      "text/plain": [
       "('@', '#', '^')"
      ]
     },
     "execution_count": 7,
     "metadata": {},
     "output_type": "execute_result"
    }
   ],
   "source": [
    "'@',\"#\",\"^\""
   ]
  },
  {
   "cell_type": "markdown",
   "id": "928448ad",
   "metadata": {},
   "source": [
    "# Lowering"
   ]
  },
  {
   "cell_type": "code",
   "execution_count": 8,
   "id": "236de75d",
   "metadata": {},
   "outputs": [],
   "source": [
    "df['text'] = df['text'].str.lower()"
   ]
  },
  {
   "cell_type": "code",
   "execution_count": 9,
   "id": "8931ba09",
   "metadata": {},
   "outputs": [
    {
     "data": {
      "text/plain": [
       "'@applesupport causing the reply to be disregarded and the tapped notification under the keyboard is opened😡😡😡'"
      ]
     },
     "execution_count": 9,
     "metadata": {},
     "output_type": "execute_result"
    }
   ],
   "source": [
    "df['text'][0]"
   ]
  },
  {
   "cell_type": "markdown",
   "id": "f53667bf",
   "metadata": {},
   "source": [
    "# removing links"
   ]
  },
  {
   "cell_type": "code",
   "execution_count": 10,
   "id": "f2e76228",
   "metadata": {},
   "outputs": [],
   "source": [
    "def remove_links(text):\n",
    "    pattern = r'https?://\\S+'\n",
    "    text_cleaned = re.sub(pattern, \"\", text)\n",
    "    return text_cleaned"
   ]
  },
  {
   "cell_type": "code",
   "execution_count": 11,
   "id": "cee8c173",
   "metadata": {},
   "outputs": [],
   "source": [
    "df1 = df.copy()"
   ]
  },
  {
   "cell_type": "code",
   "execution_count": 12,
   "id": "7ddac212",
   "metadata": {},
   "outputs": [],
   "source": [
    "df1['text'] = df1['text'].apply(remove_links)"
   ]
  },
  {
   "cell_type": "code",
   "execution_count": 13,
   "id": "bab13690",
   "metadata": {},
   "outputs": [
    {
     "data": {
      "text/plain": [
       "'@105835 your business means a lot to us. please dm your name, zip code and additional details about your concern. ^rr '"
      ]
     },
     "execution_count": 13,
     "metadata": {},
     "output_type": "execute_result"
    }
   ],
   "source": [
    "df1['text'][1]"
   ]
  },
  {
   "cell_type": "markdown",
   "id": "05792731",
   "metadata": {},
   "source": [
    "# Special characters"
   ]
  },
  {
   "cell_type": "code",
   "execution_count": 14,
   "id": "d7ffaea2",
   "metadata": {},
   "outputs": [],
   "source": [
    "\n",
    "def remove_symbols(text):\n",
    "   \n",
    "    pattern = r'[^\\w\\s]' \n",
    "    \n",
    "   \n",
    "    text_cleaned = re.sub(pattern, '', text)\n",
    "    \n",
    "    return text_cleaned"
   ]
  },
  {
   "cell_type": "code",
   "execution_count": 15,
   "id": "b257b0b4",
   "metadata": {},
   "outputs": [],
   "source": [
    "df2 = df1.copy()"
   ]
  },
  {
   "cell_type": "code",
   "execution_count": 16,
   "id": "590a1988",
   "metadata": {},
   "outputs": [],
   "source": [
    "df2[\"text\"] = df2[\"text\"].apply(remove_symbols)"
   ]
  },
  {
   "cell_type": "code",
   "execution_count": 17,
   "id": "fd9464df",
   "metadata": {},
   "outputs": [
    {
     "data": {
      "text/plain": [
       "'105835 your business means a lot to us please dm your name zip code and additional details about your concern rr '"
      ]
     },
     "execution_count": 17,
     "metadata": {},
     "output_type": "execute_result"
    }
   ],
   "source": [
    "df2[\"text\"][1]"
   ]
  },
  {
   "cell_type": "markdown",
   "id": "187f085f",
   "metadata": {},
   "source": [
    "# Removing Numeric values"
   ]
  },
  {
   "cell_type": "code",
   "execution_count": 18,
   "id": "501d34b1",
   "metadata": {},
   "outputs": [],
   "source": [
    "df3 = df2.copy()"
   ]
  },
  {
   "cell_type": "code",
   "execution_count": 19,
   "id": "a24762c0",
   "metadata": {},
   "outputs": [],
   "source": [
    "def remove_numbers(text):\n",
    "    \n",
    "    pattern = r'\\b\\d+\\b'\n",
    "    \n",
    "    \n",
    "    text_cleaned = re.sub(pattern, '', text)\n",
    "    \n",
    "    return text_cleaned"
   ]
  },
  {
   "cell_type": "code",
   "execution_count": 20,
   "id": "4f9db63e",
   "metadata": {},
   "outputs": [],
   "source": [
    "df3[\"text\"] = df3['text'].apply(remove_numbers)"
   ]
  },
  {
   "cell_type": "code",
   "execution_count": 21,
   "id": "b31f582b",
   "metadata": {},
   "outputs": [
    {
     "data": {
      "text/plain": [
       "'applesupport causing the reply to be disregarded and the tapped notification under the keyboard is opened'"
      ]
     },
     "execution_count": 21,
     "metadata": {},
     "output_type": "execute_result"
    }
   ],
   "source": [
    "df3[\"text\"][0]"
   ]
  },
  {
   "cell_type": "markdown",
   "id": "92d929da",
   "metadata": {},
   "source": [
    "# Removing emojis"
   ]
  },
  {
   "cell_type": "code",
   "execution_count": 22,
   "id": "e0ce7830",
   "metadata": {},
   "outputs": [],
   "source": [
    "df4 = df3.copy()"
   ]
  },
  {
   "cell_type": "code",
   "execution_count": 23,
   "id": "bc578f2b",
   "metadata": {},
   "outputs": [],
   "source": [
    "def remove_emojis(text):\n",
    "    \n",
    "    emoji_pattern = re.compile(\"[\"\n",
    "                               u\"\\U0001F600-\\U0001F64F\"  # emoticons\n",
    "                               u\"\\U0001F300-\\U0001F5FF\"  # symbols & pictographs\n",
    "                               u\"\\U0001F680-\\U0001F6FF\"  # transport & map symbols\n",
    "                               u\"\\U0001F1E0-\\U0001F1FF\"  # flags (iOS)\n",
    "                               u\"\\U00002500-\\U00002BEF\"  # chinese char\n",
    "                               u\"\\U00002702-\\U000027B0\"\n",
    "                               u\"\\U00002702-\\U000027B0\"\n",
    "                               u\"\\U000024C2-\\U0001F251\"\n",
    "                               u\"\\U0001f926-\\U0001f937\"\n",
    "                               u\"\\U00010000-\\U0010ffff\"\n",
    "                               u\"\\u2640-\\u2642\"\n",
    "                               u\"\\u2600-\\u2B55\"\n",
    "                               u\"\\u200d\"\n",
    "                               u\"\\u23cf\"\n",
    "                               u\"\\u23e9\"\n",
    "                               u\"\\u231a\"\n",
    "                               u\"\\ufe0f\"  # dingbats\n",
    "                               u\"\\u3030\"\n",
    "                               \"]+\", flags=re.UNICODE)\n",
    "    \n",
    "   \n",
    "    text_cleaned = emoji_pattern.sub(r'', text)\n",
    "    \n",
    "    return text_cleaned"
   ]
  },
  {
   "cell_type": "code",
   "execution_count": 24,
   "id": "72492f1b",
   "metadata": {},
   "outputs": [],
   "source": [
    "df4['text'] = df4['text'].apply(remove_emojis)"
   ]
  },
  {
   "cell_type": "code",
   "execution_count": 25,
   "id": "dd652373",
   "metadata": {},
   "outputs": [
    {
     "data": {
      "text/plain": [
       "' thats what were here for miriam   the team should send you an email shortly hp'"
      ]
     },
     "execution_count": 25,
     "metadata": {},
     "output_type": "execute_result"
    }
   ],
   "source": [
    "df4['text'][9]"
   ]
  },
  {
   "cell_type": "markdown",
   "id": "41277c75",
   "metadata": {},
   "source": [
    "# stopwords"
   ]
  },
  {
   "cell_type": "code",
   "execution_count": 26,
   "id": "90f191c3",
   "metadata": {},
   "outputs": [
    {
     "data": {
      "text/plain": [
       "['i',\n",
       " 'me',\n",
       " 'my',\n",
       " 'myself',\n",
       " 'we',\n",
       " 'our',\n",
       " 'ours',\n",
       " 'ourselves',\n",
       " 'you',\n",
       " \"you're\",\n",
       " \"you've\",\n",
       " \"you'll\",\n",
       " \"you'd\",\n",
       " 'your',\n",
       " 'yours',\n",
       " 'yourself',\n",
       " 'yourselves',\n",
       " 'he',\n",
       " 'him',\n",
       " 'his',\n",
       " 'himself',\n",
       " 'she',\n",
       " \"she's\",\n",
       " 'her',\n",
       " 'hers',\n",
       " 'herself',\n",
       " 'it',\n",
       " \"it's\",\n",
       " 'its',\n",
       " 'itself',\n",
       " 'they',\n",
       " 'them',\n",
       " 'their',\n",
       " 'theirs',\n",
       " 'themselves',\n",
       " 'what',\n",
       " 'which',\n",
       " 'who',\n",
       " 'whom',\n",
       " 'this',\n",
       " 'that',\n",
       " \"that'll\",\n",
       " 'these',\n",
       " 'those',\n",
       " 'am',\n",
       " 'is',\n",
       " 'are',\n",
       " 'was',\n",
       " 'were',\n",
       " 'be',\n",
       " 'been',\n",
       " 'being',\n",
       " 'have',\n",
       " 'has',\n",
       " 'had',\n",
       " 'having',\n",
       " 'do',\n",
       " 'does',\n",
       " 'did',\n",
       " 'doing',\n",
       " 'a',\n",
       " 'an',\n",
       " 'the',\n",
       " 'and',\n",
       " 'but',\n",
       " 'if',\n",
       " 'or',\n",
       " 'because',\n",
       " 'as',\n",
       " 'until',\n",
       " 'while',\n",
       " 'of',\n",
       " 'at',\n",
       " 'by',\n",
       " 'for',\n",
       " 'with',\n",
       " 'about',\n",
       " 'against',\n",
       " 'between',\n",
       " 'into',\n",
       " 'through',\n",
       " 'during',\n",
       " 'before',\n",
       " 'after',\n",
       " 'above',\n",
       " 'below',\n",
       " 'to',\n",
       " 'from',\n",
       " 'up',\n",
       " 'down',\n",
       " 'in',\n",
       " 'out',\n",
       " 'on',\n",
       " 'off',\n",
       " 'over',\n",
       " 'under',\n",
       " 'again',\n",
       " 'further',\n",
       " 'then',\n",
       " 'once',\n",
       " 'here',\n",
       " 'there',\n",
       " 'when',\n",
       " 'where',\n",
       " 'why',\n",
       " 'how',\n",
       " 'all',\n",
       " 'any',\n",
       " 'both',\n",
       " 'each',\n",
       " 'few',\n",
       " 'more',\n",
       " 'most',\n",
       " 'other',\n",
       " 'some',\n",
       " 'such',\n",
       " 'no',\n",
       " 'nor',\n",
       " 'not',\n",
       " 'only',\n",
       " 'own',\n",
       " 'same',\n",
       " 'so',\n",
       " 'than',\n",
       " 'too',\n",
       " 'very',\n",
       " 's',\n",
       " 't',\n",
       " 'can',\n",
       " 'will',\n",
       " 'just',\n",
       " 'don',\n",
       " \"don't\",\n",
       " 'should',\n",
       " \"should've\",\n",
       " 'now',\n",
       " 'd',\n",
       " 'll',\n",
       " 'm',\n",
       " 'o',\n",
       " 're',\n",
       " 've',\n",
       " 'y',\n",
       " 'ain',\n",
       " 'aren',\n",
       " \"aren't\",\n",
       " 'couldn',\n",
       " \"couldn't\",\n",
       " 'didn',\n",
       " \"didn't\",\n",
       " 'doesn',\n",
       " \"doesn't\",\n",
       " 'hadn',\n",
       " \"hadn't\",\n",
       " 'hasn',\n",
       " \"hasn't\",\n",
       " 'haven',\n",
       " \"haven't\",\n",
       " 'isn',\n",
       " \"isn't\",\n",
       " 'ma',\n",
       " 'mightn',\n",
       " \"mightn't\",\n",
       " 'mustn',\n",
       " \"mustn't\",\n",
       " 'needn',\n",
       " \"needn't\",\n",
       " 'shan',\n",
       " \"shan't\",\n",
       " 'shouldn',\n",
       " \"shouldn't\",\n",
       " 'wasn',\n",
       " \"wasn't\",\n",
       " 'weren',\n",
       " \"weren't\",\n",
       " 'won',\n",
       " \"won't\",\n",
       " 'wouldn',\n",
       " \"wouldn't\"]"
      ]
     },
     "execution_count": 26,
     "metadata": {},
     "output_type": "execute_result"
    }
   ],
   "source": [
    "stopwords.words('english')"
   ]
  },
  {
   "cell_type": "code",
   "execution_count": 27,
   "id": "e5808c02",
   "metadata": {},
   "outputs": [],
   "source": [
    "words = nltk.word_tokenize('applesupport causing the reply to be disregarded and the tapped notification under the keyboard is opened')"
   ]
  },
  {
   "cell_type": "code",
   "execution_count": 28,
   "id": "279ec98e",
   "metadata": {},
   "outputs": [
    {
     "data": {
      "text/plain": [
       "['applesupport',\n",
       " 'causing',\n",
       " 'the',\n",
       " 'reply',\n",
       " 'to',\n",
       " 'be',\n",
       " 'disregarded',\n",
       " 'and',\n",
       " 'the',\n",
       " 'tapped',\n",
       " 'notification',\n",
       " 'under',\n",
       " 'the',\n",
       " 'keyboard',\n",
       " 'is',\n",
       " 'opened']"
      ]
     },
     "execution_count": 28,
     "metadata": {},
     "output_type": "execute_result"
    }
   ],
   "source": [
    "words"
   ]
  },
  {
   "cell_type": "code",
   "execution_count": 29,
   "id": "6bd45657",
   "metadata": {},
   "outputs": [],
   "source": [
    "english_stopwords = set(stopwords.words('english'))\n",
    "filtered_words = [word for word in words if word.lower() not in english_stopwords]\n",
    "    \n",
    "\n",
    "filtered_text = ' '.join(filtered_words)"
   ]
  },
  {
   "cell_type": "code",
   "execution_count": 30,
   "id": "6a078733",
   "metadata": {},
   "outputs": [
    {
     "data": {
      "text/plain": [
       "['applesupport',\n",
       " 'causing',\n",
       " 'reply',\n",
       " 'disregarded',\n",
       " 'tapped',\n",
       " 'notification',\n",
       " 'keyboard',\n",
       " 'opened']"
      ]
     },
     "execution_count": 30,
     "metadata": {},
     "output_type": "execute_result"
    }
   ],
   "source": [
    "filtered_words"
   ]
  },
  {
   "cell_type": "code",
   "execution_count": 31,
   "id": "a30c613c",
   "metadata": {},
   "outputs": [
    {
     "data": {
      "text/plain": [
       "'applesupport causing reply disregarded tapped notification keyboard opened'"
      ]
     },
     "execution_count": 31,
     "metadata": {},
     "output_type": "execute_result"
    }
   ],
   "source": [
    "filtered_text"
   ]
  },
  {
   "cell_type": "code",
   "execution_count": 32,
   "id": "868c19ed",
   "metadata": {},
   "outputs": [],
   "source": [
    "def remove_stopwords(text):\n",
    "    \n",
    "    words = nltk.word_tokenize(text)\n",
    "    \n",
    "    \n",
    "    english_stopwords = set(stopwords.words('english'))\n",
    "    \n",
    "    \n",
    "    filtered_words = [word for word in words if word.lower() not in english_stopwords]\n",
    "    \n",
    "    \n",
    "    filtered_text = ' '.join(filtered_words)\n",
    "    \n",
    "    return filtered_text"
   ]
  },
  {
   "cell_type": "code",
   "execution_count": 33,
   "id": "e96379f6",
   "metadata": {},
   "outputs": [],
   "source": [
    "df4['text'] = df4['text'].apply(remove_stopwords)"
   ]
  },
  {
   "cell_type": "code",
   "execution_count": 34,
   "id": "934d1ba4",
   "metadata": {},
   "outputs": [
    {
     "data": {
      "text/plain": [
       "'applesupport causing reply disregarded tapped notification keyboard opened'"
      ]
     },
     "execution_count": 34,
     "metadata": {},
     "output_type": "execute_result"
    }
   ],
   "source": [
    "df4['text'][0]"
   ]
  },
  {
   "cell_type": "code",
   "execution_count": 35,
   "id": "a36b75f7",
   "metadata": {},
   "outputs": [
    {
     "data": {
      "text/plain": [
       "'tried another device miriam mm'"
      ]
     },
     "execution_count": 35,
     "metadata": {},
     "output_type": "execute_result"
    }
   ],
   "source": [
    "df4['text'][5]"
   ]
  },
  {
   "cell_type": "markdown",
   "id": "6f11e7b3",
   "metadata": {},
   "source": [
    "# Stemming"
   ]
  },
  {
   "cell_type": "code",
   "execution_count": 36,
   "id": "eda23efa",
   "metadata": {},
   "outputs": [],
   "source": [
    "df5 = df4.copy()"
   ]
  },
  {
   "cell_type": "code",
   "execution_count": 37,
   "id": "97f5b5a1",
   "metadata": {},
   "outputs": [],
   "source": [
    "def stem_text(text):\n",
    "    stemmer = PorterStemmer()\n",
    "    \n",
    "    words = word_tokenize(text)\n",
    "    \n",
    "    stemmed_words = [stemmer.stem(word) for word in words]\n",
    "    \n",
    "    stemmed_text = \" \".join(stemmed_words)\n",
    "    \n",
    "    return stemmed_text\n",
    "    \n",
    "    "
   ]
  },
  {
   "cell_type": "code",
   "execution_count": 38,
   "id": "4322f0c5",
   "metadata": {},
   "outputs": [],
   "source": [
    "df5['text'] = df5['text'].apply(stem_text)"
   ]
  },
  {
   "cell_type": "code",
   "execution_count": 39,
   "id": "29b01f89",
   "metadata": {},
   "outputs": [
    {
     "data": {
      "text/plain": [
       "'applesupport caus repli disregard tap notif keyboard open'"
      ]
     },
     "execution_count": 39,
     "metadata": {},
     "output_type": "execute_result"
    }
   ],
   "source": [
    "df5['text'][0]"
   ]
  },
  {
   "cell_type": "markdown",
   "id": "7b47158a",
   "metadata": {},
   "source": [
    "# Lemmatization"
   ]
  },
  {
   "cell_type": "code",
   "execution_count": 40,
   "id": "4f53223b",
   "metadata": {},
   "outputs": [],
   "source": [
    "df6 = df4.copy()"
   ]
  },
  {
   "cell_type": "code",
   "execution_count": 41,
   "id": "20aa68b9",
   "metadata": {},
   "outputs": [],
   "source": [
    "def lemmatize_text(text):\n",
    "    \n",
    "    lemmetizer = WordNetLemmatizer()\n",
    "    \n",
    "    words = word_tokenize(text)\n",
    "    \n",
    "    lemmatize_words = [lemmetizer.lemmatize(word) for word in words]\n",
    "    \n",
    "    lemmatize_text = \" \".join(lemmatize_words)\n",
    "    \n",
    "    return lemmatize_text"
   ]
  },
  {
   "cell_type": "code",
   "execution_count": 42,
   "id": "ea0bceca",
   "metadata": {},
   "outputs": [],
   "source": [
    "df6['text'] = df6['text'].apply(lemmatize_text)"
   ]
  },
  {
   "cell_type": "code",
   "execution_count": 43,
   "id": "3033be0b",
   "metadata": {},
   "outputs": [
    {
     "data": {
      "text/plain": [
       "'applesupport causing reply disregarded tapped notification keyboard opened'"
      ]
     },
     "execution_count": 43,
     "metadata": {},
     "output_type": "execute_result"
    }
   ],
   "source": [
    "df6['text'][0]"
   ]
  }
 ],
 "metadata": {
  "kernelspec": {
   "display_name": "Python 3",
   "language": "python",
   "name": "python3"
  },
  "language_info": {
   "codemirror_mode": {
    "name": "ipython",
    "version": 3
   },
   "file_extension": ".py",
   "mimetype": "text/x-python",
   "name": "python",
   "nbconvert_exporter": "python",
   "pygments_lexer": "ipython3",
   "version": "3.8.8"
  }
 },
 "nbformat": 4,
 "nbformat_minor": 5
}
